{
  "nbformat": 4,
  "nbformat_minor": 0,
  "metadata": {
    "colab": {
      "name": "Lab8.ipynb",
      "provenance": []
    },
    "kernelspec": {
      "name": "python3",
      "display_name": "Python 3"
    }
  },
  "cells": [
    {
      "cell_type": "markdown",
      "metadata": {
        "id": "rxzW8MhXcvt0",
        "colab_type": "text"
      },
      "source": [
        "## Without regularization"
      ]
    },
    {
      "cell_type": "code",
      "metadata": {
        "id": "yAet9rRsTdmC",
        "colab_type": "code",
        "colab": {}
      },
      "source": [
        "import matplotlib.pyplot as plt\n",
        "import numpy as np\n",
        "from sklearn.model_selection import train_test_split\n",
        "from sklearn import datasets, linear_model\n",
        "from sklearn.metrics import mean_squared_error, r2_score\n",
        "from sklearn.discriminant_analysis import LinearDiscriminantAnalysis as LDA\n",
        "from sklearn.datasets import make_regression"
      ],
      "execution_count": 36,
      "outputs": []
    },
    {
      "cell_type": "code",
      "metadata": {
        "id": "OzevSbsgUzoY",
        "colab_type": "code",
        "colab": {}
      },
      "source": [
        "# Load the diabetes dataset\n",
        "diabetes_X, diabetes_y = datasets.load_diabetes(return_X_y=True)"
      ],
      "execution_count": 2,
      "outputs": []
    },
    {
      "cell_type": "code",
      "metadata": {
        "id": "LdE7tJ_QXF-Y",
        "colab_type": "code",
        "colab": {}
      },
      "source": [
        "x_train,x_test,y_train,y_test=train_test_split(diabetes_X,diabetes_y,random_state=0)"
      ],
      "execution_count": 5,
      "outputs": []
    },
    {
      "cell_type": "code",
      "metadata": {
        "id": "IYDCcXZXXWo-",
        "colab_type": "code",
        "colab": {}
      },
      "source": [
        "regr=linear_model.LinearRegression()\n",
        "regr.fit(x_train,y_train)\n",
        "y_pred=regr.predict(x_test)"
      ],
      "execution_count": 12,
      "outputs": []
    },
    {
      "cell_type": "code",
      "metadata": {
        "id": "tKdixWvSZukN",
        "colab_type": "code",
        "colab": {
          "base_uri": "https://localhost:8080/",
          "height": 54
        },
        "outputId": "68e4b022-0547-43d6-d7ef-a876772af76c"
      },
      "source": [
        "print('Regularization coefficients:',regr.coef_)"
      ],
      "execution_count": 13,
      "outputs": [
        {
          "output_type": "stream",
          "text": [
            "Regularization coefficients: [ -43.26774487 -208.67053951  593.39797213  302.89814903 -560.27689824\n",
            "  261.47657106   -8.83343952  135.93715156  703.22658427   28.34844354]\n"
          ],
          "name": "stdout"
        }
      ]
    },
    {
      "cell_type": "code",
      "metadata": {
        "id": "ew-3TJv3Z4tc",
        "colab_type": "code",
        "colab": {
          "base_uri": "https://localhost:8080/",
          "height": 35
        },
        "outputId": "2cb0e1e4-578b-4aed-eec7-6e6b89dd1ef4"
      },
      "source": [
        "print(\"Mean square error: %.2f\"% mean_squared_error(y_test,y_pred))"
      ],
      "execution_count": 17,
      "outputs": [
        {
          "output_type": "stream",
          "text": [
            "Mean square error: 3180.20\n"
          ],
          "name": "stdout"
        }
      ]
    },
    {
      "cell_type": "code",
      "metadata": {
        "id": "uQbjG7btaeEs",
        "colab_type": "code",
        "colab": {
          "base_uri": "https://localhost:8080/",
          "height": 35
        },
        "outputId": "86312f23-dc8b-48a4-84ee-16eb5628f4b8"
      },
      "source": [
        "print('Coefficient of determination: %.2f'\n",
        "      % r2_score(y_test, y_pred))"
      ],
      "execution_count": 18,
      "outputs": [
        {
          "output_type": "stream",
          "text": [
            "Coefficient of determination: 0.36\n"
          ],
          "name": "stdout"
        }
      ]
    },
    {
      "cell_type": "markdown",
      "metadata": {
        "id": "km9q-R3yc2e7",
        "colab_type": "text"
      },
      "source": [
        "## With regularization - Ridge"
      ]
    },
    {
      "cell_type": "code",
      "metadata": {
        "id": "T4iT9O86cuuM",
        "colab_type": "code",
        "colab": {}
      },
      "source": [
        "regr=linear_model.Ridge()\n",
        "regr.fit(x_train,y_train)\n",
        "y_pred=regr.predict(x_test)"
      ],
      "execution_count": 30,
      "outputs": []
    },
    {
      "cell_type": "code",
      "metadata": {
        "id": "Pjru7iQTdAfz",
        "colab_type": "code",
        "colab": {
          "base_uri": "https://localhost:8080/",
          "height": 54
        },
        "outputId": "54e2056a-429f-4fd6-fde4-4f1f7dc3351a"
      },
      "source": [
        "print('Regularization coefficients:',regr.coef_)"
      ],
      "execution_count": 27,
      "outputs": [
        {
          "output_type": "stream",
          "text": [
            "Regularization coefficients: [  21.19927911  -60.47711393  302.87575204  179.41206395    8.90911449\n",
            "  -28.8080548  -149.30722541  112.67185758  250.53760873   99.57749017]\n"
          ],
          "name": "stdout"
        }
      ]
    },
    {
      "cell_type": "code",
      "metadata": {
        "id": "8cDEEoWcdDwb",
        "colab_type": "code",
        "colab": {
          "base_uri": "https://localhost:8080/",
          "height": 35
        },
        "outputId": "06c5d82e-3133-4dc6-9a93-b5ed76d2a1d7"
      },
      "source": [
        "print(\"Mean square error: %.2f\"% mean_squared_error(y_test,y_pred))"
      ],
      "execution_count": 29,
      "outputs": [
        {
          "output_type": "stream",
          "text": [
            "Mean square error: 3192.33\n"
          ],
          "name": "stdout"
        }
      ]
    },
    {
      "cell_type": "code",
      "metadata": {
        "id": "BoTrW766dSui",
        "colab_type": "code",
        "colab": {
          "base_uri": "https://localhost:8080/",
          "height": 35
        },
        "outputId": "43eaaca9-6403-40ef-f4bc-8de3b75e0c3b"
      },
      "source": [
        "print('Coefficient of determination: %.2f'\n",
        "      % r2_score(y_test, y_pred))"
      ],
      "execution_count": 31,
      "outputs": [
        {
          "output_type": "stream",
          "text": [
            "Coefficient of determination: 0.36\n"
          ],
          "name": "stdout"
        }
      ]
    },
    {
      "cell_type": "markdown",
      "metadata": {
        "id": "CDowmDUpdYKZ",
        "colab_type": "text"
      },
      "source": [
        "## With Regularization - Lasso"
      ]
    },
    {
      "cell_type": "code",
      "metadata": {
        "id": "myljWobUdbYr",
        "colab_type": "code",
        "colab": {}
      },
      "source": [
        "regr=linear_model.Lasso()\n",
        "regr.fit(x_train,y_train)\n",
        "y_pred=regr.predict(x_test)"
      ],
      "execution_count": 32,
      "outputs": []
    },
    {
      "cell_type": "code",
      "metadata": {
        "id": "zCY2d24wdhvc",
        "colab_type": "code",
        "colab": {
          "base_uri": "https://localhost:8080/",
          "height": 54
        },
        "outputId": "48cd66da-597d-4b2b-9e2c-4c47bc2166fd"
      },
      "source": [
        "print('Regularization coefficients:',regr.coef_)"
      ],
      "execution_count": 33,
      "outputs": [
        {
          "output_type": "stream",
          "text": [
            "Regularization coefficients: [  0.          -0.         442.67992538   0.           0.\n",
            "   0.          -0.           0.         330.76014648   0.        ]\n"
          ],
          "name": "stdout"
        }
      ]
    },
    {
      "cell_type": "code",
      "metadata": {
        "id": "2nYkUt0jdj7q",
        "colab_type": "code",
        "colab": {
          "base_uri": "https://localhost:8080/",
          "height": 35
        },
        "outputId": "5e4d6976-c3b0-476a-dd95-26c904ffb571"
      },
      "source": [
        "print(\"Mean square error: %.2f\"% mean_squared_error(y_test,y_pred))"
      ],
      "execution_count": 34,
      "outputs": [
        {
          "output_type": "stream",
          "text": [
            "Mean square error: 3583.42\n"
          ],
          "name": "stdout"
        }
      ]
    },
    {
      "cell_type": "code",
      "metadata": {
        "id": "gjm5Re3Ddmfz",
        "colab_type": "code",
        "colab": {
          "base_uri": "https://localhost:8080/",
          "height": 35
        },
        "outputId": "b6cd2f49-e4de-46e4-f352-72e08daa009a"
      },
      "source": [
        "print('Coefficient of determination: %.2f'\n",
        "      % r2_score(y_test, y_pred))"
      ],
      "execution_count": 35,
      "outputs": [
        {
          "output_type": "stream",
          "text": [
            "Coefficient of determination: 0.28\n"
          ],
          "name": "stdout"
        }
      ]
    },
    {
      "cell_type": "markdown",
      "metadata": {
        "id": "evufS2WZdtOZ",
        "colab_type": "text"
      },
      "source": [
        "## Create synthetic dataset"
      ]
    },
    {
      "cell_type": "code",
      "metadata": {
        "id": "zG1pWFsydr0K",
        "colab_type": "code",
        "colab": {}
      },
      "source": [
        "X,y=make_regression(n_samples=1000,n_features=1,random_state=0)"
      ],
      "execution_count": 37,
      "outputs": []
    },
    {
      "cell_type": "code",
      "metadata": {
        "id": "PhlqMcsfeWoa",
        "colab_type": "code",
        "colab": {}
      },
      "source": [
        "x_train,x_test,y_train,y_test=train_test_split(X,y,random_state=0)"
      ],
      "execution_count": 38,
      "outputs": []
    },
    {
      "cell_type": "code",
      "metadata": {
        "id": "njgI7oFMeRoz",
        "colab_type": "code",
        "colab": {}
      },
      "source": [
        "regr=linear_model.Lasso()\n",
        "regr.fit(x_train,y_train)\n",
        "y_pred=regr.predict(x_test)"
      ],
      "execution_count": 39,
      "outputs": []
    },
    {
      "cell_type": "code",
      "metadata": {
        "id": "OEzNYbpXefmU",
        "colab_type": "code",
        "colab": {
          "base_uri": "https://localhost:8080/",
          "height": 35
        },
        "outputId": "c8b0af96-50cd-4cc0-cd45-b3bc30664c1d"
      },
      "source": [
        "print('Regularization coefficients:',regr.coef_)"
      ],
      "execution_count": 40,
      "outputs": [
        {
          "output_type": "stream",
          "text": [
            "Regularization coefficients: [81.17093529]\n"
          ],
          "name": "stdout"
        }
      ]
    },
    {
      "cell_type": "code",
      "metadata": {
        "id": "8T23O0hReiQ9",
        "colab_type": "code",
        "colab": {
          "base_uri": "https://localhost:8080/",
          "height": 35
        },
        "outputId": "a76e426b-c3c5-4259-bc8c-ed6e560f5333"
      },
      "source": [
        "print(\"Mean square error: %.2f\"% mean_squared_error(y_test,y_pred))"
      ],
      "execution_count": 41,
      "outputs": [
        {
          "output_type": "stream",
          "text": [
            "Mean square error: 0.99\n"
          ],
          "name": "stdout"
        }
      ]
    },
    {
      "cell_type": "code",
      "metadata": {
        "id": "PYFN-SolelJJ",
        "colab_type": "code",
        "colab": {
          "base_uri": "https://localhost:8080/",
          "height": 35
        },
        "outputId": "794136b6-d8ae-4040-b527-2ba7e274c92f"
      },
      "source": [
        "print('Coefficient of determination: %.2f'\n",
        "      % r2_score(y_test, y_pred))"
      ],
      "execution_count": 42,
      "outputs": [
        {
          "output_type": "stream",
          "text": [
            "Coefficient of determination: 1.00\n"
          ],
          "name": "stdout"
        }
      ]
    },
    {
      "cell_type": "code",
      "metadata": {
        "id": "T_EyXWmbeov5",
        "colab_type": "code",
        "colab": {
          "base_uri": "https://localhost:8080/",
          "height": 252
        },
        "outputId": "d83b19f9-b262-47fe-f0ae-ab28170039b6"
      },
      "source": [
        "plt.scatter(x_test, y_test,  color='black')\n",
        "plt.plot(x_test, y_pred, color='blue', linewidth=3)\n",
        "\n",
        "plt.xticks(())\n",
        "plt.yticks(())\n",
        "\n",
        "plt.show()"
      ],
      "execution_count": 44,
      "outputs": [
        {
          "output_type": "display_data",
          "data": {
            "image/png": "[encoded data removed]",
            "text/plain": [
              "<Figure size 432x288 with 1 Axes>"
            ]
          },
          "metadata": {
            "tags": []
          }
        }
      ]
    }
  ]
}